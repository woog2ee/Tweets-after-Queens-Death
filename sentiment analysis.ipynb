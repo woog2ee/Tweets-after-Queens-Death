{
 "cells": [
  {
   "cell_type": "markdown",
   "id": "80fc098d",
   "metadata": {},
   "source": [
    "### 라이브러리"
   ]
  },
  {
   "cell_type": "code",
   "execution_count": 1,
   "id": "393eb6aa",
   "metadata": {},
   "outputs": [],
   "source": [
    "import os\n",
    "import pandas as pd\n",
    "from tqdm import trange\n",
    "from transformers import AutoTokenizer, AutoModelForSequenceClassification\n",
    "from scipy.special import softmax"
   ]
  },
  {
   "cell_type": "markdown",
   "id": "09358cac",
   "metadata": {},
   "source": [
    "### 데이터 확인"
   ]
  },
  {
   "cell_type": "code",
   "execution_count": 2,
   "id": "70744d40",
   "metadata": {},
   "outputs": [
    {
     "data": {
      "text/html": [
       "<div>\n",
       "<style scoped>\n",
       "    .dataframe tbody tr th:only-of-type {\n",
       "        vertical-align: middle;\n",
       "    }\n",
       "\n",
       "    .dataframe tbody tr th {\n",
       "        vertical-align: top;\n",
       "    }\n",
       "\n",
       "    .dataframe thead th {\n",
       "        text-align: right;\n",
       "    }\n",
       "</style>\n",
       "<table border=\"1\" class=\"dataframe\">\n",
       "  <thead>\n",
       "    <tr style=\"text-align: right;\">\n",
       "      <th></th>\n",
       "      <th>index</th>\n",
       "      <th>id</th>\n",
       "      <th>conversation_id</th>\n",
       "      <th>created_at</th>\n",
       "      <th>date</th>\n",
       "      <th>time</th>\n",
       "      <th>timezone</th>\n",
       "      <th>user_id</th>\n",
       "      <th>username</th>\n",
       "      <th>name</th>\n",
       "      <th>...</th>\n",
       "      <th>retweets_count</th>\n",
       "      <th>likes_count</th>\n",
       "      <th>hashtags</th>\n",
       "      <th>cashtags</th>\n",
       "      <th>link</th>\n",
       "      <th>retweet</th>\n",
       "      <th>quote_url</th>\n",
       "      <th>video</th>\n",
       "      <th>thumbnail</th>\n",
       "      <th>tweet_len</th>\n",
       "    </tr>\n",
       "  </thead>\n",
       "  <tbody>\n",
       "    <tr>\n",
       "      <th>0</th>\n",
       "      <td>0</td>\n",
       "      <td>1568167503947235331</td>\n",
       "      <td>1568167503947235331</td>\n",
       "      <td>2022-09-09 14:50:42 India Standard Time</td>\n",
       "      <td>2022-09-09</td>\n",
       "      <td>14:50:42</td>\n",
       "      <td>530</td>\n",
       "      <td>963099618547589121</td>\n",
       "      <td>inpd_</td>\n",
       "      <td>In Professional Development</td>\n",
       "      <td>...</td>\n",
       "      <td>0</td>\n",
       "      <td>0</td>\n",
       "      <td>[]</td>\n",
       "      <td>[]</td>\n",
       "      <td>https://twitter.com/INPD_/status/1568167503947...</td>\n",
       "      <td>False</td>\n",
       "      <td>NaN</td>\n",
       "      <td>1</td>\n",
       "      <td>https://pbs.twimg.com/media/FcM_yTPWQAAqAck.jpg</td>\n",
       "      <td>244</td>\n",
       "    </tr>\n",
       "    <tr>\n",
       "      <th>1</th>\n",
       "      <td>1</td>\n",
       "      <td>1568167501334253568</td>\n",
       "      <td>1568167501334253568</td>\n",
       "      <td>2022-09-09 14:50:42 India Standard Time</td>\n",
       "      <td>2022-09-09</td>\n",
       "      <td>14:50:42</td>\n",
       "      <td>530</td>\n",
       "      <td>26475981</td>\n",
       "      <td>ukpostbox</td>\n",
       "      <td>UK Postbox</td>\n",
       "      <td>...</td>\n",
       "      <td>0</td>\n",
       "      <td>0</td>\n",
       "      <td>[]</td>\n",
       "      <td>[]</td>\n",
       "      <td>https://twitter.com/UKPostbox/status/156816750...</td>\n",
       "      <td>False</td>\n",
       "      <td>NaN</td>\n",
       "      <td>1</td>\n",
       "      <td>https://pbs.twimg.com/media/FcM_7H_XgAEDifo.jpg</td>\n",
       "      <td>219</td>\n",
       "    </tr>\n",
       "    <tr>\n",
       "      <th>2</th>\n",
       "      <td>2</td>\n",
       "      <td>1568167500134731776</td>\n",
       "      <td>1568167500134731776</td>\n",
       "      <td>2022-09-09 14:50:41 India Standard Time</td>\n",
       "      <td>2022-09-09</td>\n",
       "      <td>14:50:41</td>\n",
       "      <td>530</td>\n",
       "      <td>868028006610153472</td>\n",
       "      <td>brandminds</td>\n",
       "      <td>BRAND MINDS</td>\n",
       "      <td>...</td>\n",
       "      <td>0</td>\n",
       "      <td>0</td>\n",
       "      <td>['queenelizabeth', 'worldchanger', 'leadership']</td>\n",
       "      <td>[]</td>\n",
       "      <td>https://twitter.com/brandminds/status/15681675...</td>\n",
       "      <td>False</td>\n",
       "      <td>NaN</td>\n",
       "      <td>1</td>\n",
       "      <td>https://pbs.twimg.com/media/FcNABxgWIAAyuK2.jpg</td>\n",
       "      <td>171</td>\n",
       "    </tr>\n",
       "  </tbody>\n",
       "</table>\n",
       "<p>3 rows × 27 columns</p>\n",
       "</div>"
      ],
      "text/plain": [
       "   index                   id      conversation_id  \\\n",
       "0      0  1568167503947235331  1568167503947235331   \n",
       "1      1  1568167501334253568  1568167501334253568   \n",
       "2      2  1568167500134731776  1568167500134731776   \n",
       "\n",
       "                                created_at        date      time  timezone  \\\n",
       "0  2022-09-09 14:50:42 India Standard Time  2022-09-09  14:50:42       530   \n",
       "1  2022-09-09 14:50:42 India Standard Time  2022-09-09  14:50:42       530   \n",
       "2  2022-09-09 14:50:41 India Standard Time  2022-09-09  14:50:41       530   \n",
       "\n",
       "              user_id    username                         name  ...  \\\n",
       "0  963099618547589121       inpd_  In Professional Development  ...   \n",
       "1            26475981   ukpostbox                   UK Postbox  ...   \n",
       "2  868028006610153472  brandminds                  BRAND MINDS  ...   \n",
       "\n",
       "  retweets_count likes_count  \\\n",
       "0              0           0   \n",
       "1              0           0   \n",
       "2              0           0   \n",
       "\n",
       "                                           hashtags cashtags  \\\n",
       "0                                                []       []   \n",
       "1                                                []       []   \n",
       "2  ['queenelizabeth', 'worldchanger', 'leadership']       []   \n",
       "\n",
       "                                                link retweet  quote_url  \\\n",
       "0  https://twitter.com/INPD_/status/1568167503947...   False        NaN   \n",
       "1  https://twitter.com/UKPostbox/status/156816750...   False        NaN   \n",
       "2  https://twitter.com/brandminds/status/15681675...   False        NaN   \n",
       "\n",
       "   video                                        thumbnail tweet_len  \n",
       "0      1  https://pbs.twimg.com/media/FcM_yTPWQAAqAck.jpg       244  \n",
       "1      1  https://pbs.twimg.com/media/FcM_7H_XgAEDifo.jpg       219  \n",
       "2      1  https://pbs.twimg.com/media/FcNABxgWIAAyuK2.jpg       171  \n",
       "\n",
       "[3 rows x 27 columns]"
      ]
     },
     "execution_count": 2,
     "metadata": {},
     "output_type": "execute_result"
    }
   ],
   "source": [
    "data = pd.read_csv('./queen_notshort.csv', lineterminator='\\n', low_memory=False)\n",
    "data.head(3)"
   ]
  },
  {
   "cell_type": "markdown",
   "id": "7e22f0e9",
   "metadata": {},
   "source": [
    "### 트윗 텍스트 감성 분석"
   ]
  },
  {
   "cell_type": "code",
   "execution_count": 3,
   "id": "19f703fd",
   "metadata": {},
   "outputs": [],
   "source": [
    "# 감성 분석 모델 로딩\n",
    "roberta = \"cardiffnlp/twitter-roberta-base-sentiment\"\n",
    "\n",
    "model = AutoModelForSequenceClassification.from_pretrained(roberta)\n",
    "tokenizer = AutoTokenizer.from_pretrained(roberta)\n",
    "\n",
    "os.environ['TOKENIZERS_PARALLELISM'] = 'false'"
   ]
  },
  {
   "cell_type": "code",
   "execution_count": 4,
   "id": "06dbc20e",
   "metadata": {},
   "outputs": [],
   "source": [
    "def sentiment_analysis(text):\n",
    "    encoded_tweet = tokenizer(text, return_tensors='pt')\n",
    "    output = model(**encoded_tweet)\n",
    "\n",
    "    scores = output[0][0].detach().numpy()\n",
    "    scores = softmax(scores)\n",
    "\n",
    "    labels = ['Negative', 'Neutral', 'Positive']\n",
    "    scores = [(scores[i], labels[i]) for i in range(len(scores))]\n",
    "    return scores\n",
    "\n",
    "def insert_sentiment_column(data):\n",
    "    sentiment_column = []\n",
    "    for i in trange(len(data)):\n",
    "        text = data.iloc[i]['tweet']\n",
    "        try: sentiment = sentiment_analysis(text)\n",
    "        except: sentiment = ['예외']\n",
    "        sentiment_column.append(sentiment)\n",
    "\n",
    "    data['sentiment'] = sentiment_column\n",
    "    return data"
   ]
  },
  {
   "cell_type": "code",
   "execution_count": 5,
   "id": "efbe5d24",
   "metadata": {},
   "outputs": [
    {
     "name": "stdout",
     "output_type": "stream",
     "text": [
      "텍스트\n",
      "\"When life seems hard, the courageous do not lie down and accept defeat; instead, they are all the more determined to struggle for a better future.\"   - Queen Elizabeth II\n",
      "\n",
      "\n",
      "감성 분석 후\n",
      "[(0.01912036, 'Negative'), (0.2795863, 'Neutral'), (0.70129335, 'Positive')]\n"
     ]
    }
   ],
   "source": [
    "# 트윗 텍스트 감성 분석 예시\n",
    "print('텍스트')\n",
    "print(data.loc[2]['tweet'])\n",
    "print('\\n')\n",
    "\n",
    "print('감성 분석 후')\n",
    "print(sentiment_analysis(data.loc[2]['tweet']))"
   ]
  },
  {
   "cell_type": "code",
   "execution_count": 6,
   "id": "426c4ad7",
   "metadata": {},
   "outputs": [
    {
     "name": "stderr",
     "output_type": "stream",
     "text": [
      "100%|████████████████████████████████████████████████████████████████████████| 142348/142348 [4:37:36<00:00,  8.55it/s]\n"
     ]
    }
   ],
   "source": [
    "# 전체 데이터에서 트윗 텍스트 감성 분석\n",
    "data = insert_sentiment_column(data)\n",
    "data.to_csv('./queen_sentiment.csv', index=False, encoding='utf-8-sig')"
   ]
  }
 ],
 "metadata": {
  "kernelspec": {
   "display_name": "bigdata",
   "language": "python",
   "name": "bigdata"
  },
  "language_info": {
   "codemirror_mode": {
    "name": "ipython",
    "version": 3
   },
   "file_extension": ".py",
   "mimetype": "text/x-python",
   "name": "python",
   "nbconvert_exporter": "python",
   "pygments_lexer": "ipython3",
   "version": "3.8.13"
  }
 },
 "nbformat": 4,
 "nbformat_minor": 5
}
