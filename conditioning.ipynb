{
 "cells": [
  {
   "cell_type": "markdown",
   "id": "a730a4fc",
   "metadata": {},
   "source": [
    "### 라이브러리"
   ]
  },
  {
   "cell_type": "code",
   "execution_count": 1,
   "id": "1b3fdd04",
   "metadata": {},
   "outputs": [],
   "source": [
    "import random\n",
    "import pandas as pd\n",
    "import matplotlib.pyplot as plt\n",
    "import seaborn as sns"
   ]
  },
  {
   "cell_type": "markdown",
   "id": "9134292b",
   "metadata": {},
   "source": [
    "### 데이터 확인"
   ]
  },
  {
   "cell_type": "code",
   "execution_count": 2,
   "id": "23fb13fb",
   "metadata": {},
   "outputs": [
    {
     "data": {
      "text/html": [
       "<div>\n",
       "<style scoped>\n",
       "    .dataframe tbody tr th:only-of-type {\n",
       "        vertical-align: middle;\n",
       "    }\n",
       "\n",
       "    .dataframe tbody tr th {\n",
       "        vertical-align: top;\n",
       "    }\n",
       "\n",
       "    .dataframe thead th {\n",
       "        text-align: right;\n",
       "    }\n",
       "</style>\n",
       "<table border=\"1\" class=\"dataframe\">\n",
       "  <thead>\n",
       "    <tr style=\"text-align: right;\">\n",
       "      <th></th>\n",
       "      <th>index</th>\n",
       "      <th>id</th>\n",
       "      <th>conversation_id</th>\n",
       "      <th>created_at</th>\n",
       "      <th>date</th>\n",
       "      <th>time</th>\n",
       "      <th>timezone</th>\n",
       "      <th>user_id</th>\n",
       "      <th>username</th>\n",
       "      <th>name</th>\n",
       "      <th>...</th>\n",
       "      <th>retweets_count</th>\n",
       "      <th>likes_count</th>\n",
       "      <th>hashtags</th>\n",
       "      <th>cashtags</th>\n",
       "      <th>link</th>\n",
       "      <th>retweet</th>\n",
       "      <th>quote_url</th>\n",
       "      <th>video</th>\n",
       "      <th>thumbnail</th>\n",
       "      <th>tweet_len</th>\n",
       "    </tr>\n",
       "  </thead>\n",
       "  <tbody>\n",
       "    <tr>\n",
       "      <th>0</th>\n",
       "      <td>0</td>\n",
       "      <td>1568167503947235331</td>\n",
       "      <td>1568167503947235331</td>\n",
       "      <td>2022-09-09 14:50:42 India Standard Time</td>\n",
       "      <td>2022-09-09</td>\n",
       "      <td>14:50:42</td>\n",
       "      <td>530</td>\n",
       "      <td>963099618547589121</td>\n",
       "      <td>inpd_</td>\n",
       "      <td>In Professional Development</td>\n",
       "      <td>...</td>\n",
       "      <td>0</td>\n",
       "      <td>0</td>\n",
       "      <td>[]</td>\n",
       "      <td>[]</td>\n",
       "      <td>https://twitter.com/INPD_/status/1568167503947...</td>\n",
       "      <td>False</td>\n",
       "      <td>NaN</td>\n",
       "      <td>1</td>\n",
       "      <td>https://pbs.twimg.com/media/FcM_yTPWQAAqAck.jpg</td>\n",
       "      <td>244</td>\n",
       "    </tr>\n",
       "    <tr>\n",
       "      <th>1</th>\n",
       "      <td>1</td>\n",
       "      <td>1568167501334253568</td>\n",
       "      <td>1568167501334253568</td>\n",
       "      <td>2022-09-09 14:50:42 India Standard Time</td>\n",
       "      <td>2022-09-09</td>\n",
       "      <td>14:50:42</td>\n",
       "      <td>530</td>\n",
       "      <td>26475981</td>\n",
       "      <td>ukpostbox</td>\n",
       "      <td>UK Postbox</td>\n",
       "      <td>...</td>\n",
       "      <td>0</td>\n",
       "      <td>0</td>\n",
       "      <td>[]</td>\n",
       "      <td>[]</td>\n",
       "      <td>https://twitter.com/UKPostbox/status/156816750...</td>\n",
       "      <td>False</td>\n",
       "      <td>NaN</td>\n",
       "      <td>1</td>\n",
       "      <td>https://pbs.twimg.com/media/FcM_7H_XgAEDifo.jpg</td>\n",
       "      <td>219</td>\n",
       "    </tr>\n",
       "    <tr>\n",
       "      <th>2</th>\n",
       "      <td>2</td>\n",
       "      <td>1568167500134731776</td>\n",
       "      <td>1568167500134731776</td>\n",
       "      <td>2022-09-09 14:50:41 India Standard Time</td>\n",
       "      <td>2022-09-09</td>\n",
       "      <td>14:50:41</td>\n",
       "      <td>530</td>\n",
       "      <td>868028006610153472</td>\n",
       "      <td>brandminds</td>\n",
       "      <td>BRAND MINDS</td>\n",
       "      <td>...</td>\n",
       "      <td>0</td>\n",
       "      <td>0</td>\n",
       "      <td>['queenelizabeth', 'worldchanger', 'leadership']</td>\n",
       "      <td>[]</td>\n",
       "      <td>https://twitter.com/brandminds/status/15681675...</td>\n",
       "      <td>False</td>\n",
       "      <td>NaN</td>\n",
       "      <td>1</td>\n",
       "      <td>https://pbs.twimg.com/media/FcNABxgWIAAyuK2.jpg</td>\n",
       "      <td>171</td>\n",
       "    </tr>\n",
       "  </tbody>\n",
       "</table>\n",
       "<p>3 rows × 27 columns</p>\n",
       "</div>"
      ],
      "text/plain": [
       "   index                   id      conversation_id  \\\n",
       "0      0  1568167503947235331  1568167503947235331   \n",
       "1      1  1568167501334253568  1568167501334253568   \n",
       "2      2  1568167500134731776  1568167500134731776   \n",
       "\n",
       "                                created_at        date      time  timezone  \\\n",
       "0  2022-09-09 14:50:42 India Standard Time  2022-09-09  14:50:42       530   \n",
       "1  2022-09-09 14:50:42 India Standard Time  2022-09-09  14:50:42       530   \n",
       "2  2022-09-09 14:50:41 India Standard Time  2022-09-09  14:50:41       530   \n",
       "\n",
       "              user_id    username                         name  ...  \\\n",
       "0  963099618547589121       inpd_  In Professional Development  ...   \n",
       "1            26475981   ukpostbox                   UK Postbox  ...   \n",
       "2  868028006610153472  brandminds                  BRAND MINDS  ...   \n",
       "\n",
       "  retweets_count likes_count  \\\n",
       "0              0           0   \n",
       "1              0           0   \n",
       "2              0           0   \n",
       "\n",
       "                                           hashtags cashtags  \\\n",
       "0                                                []       []   \n",
       "1                                                []       []   \n",
       "2  ['queenelizabeth', 'worldchanger', 'leadership']       []   \n",
       "\n",
       "                                                link retweet  quote_url  \\\n",
       "0  https://twitter.com/INPD_/status/1568167503947...   False        NaN   \n",
       "1  https://twitter.com/UKPostbox/status/156816750...   False        NaN   \n",
       "2  https://twitter.com/brandminds/status/15681675...   False        NaN   \n",
       "\n",
       "   video                                        thumbnail tweet_len  \n",
       "0      1  https://pbs.twimg.com/media/FcM_yTPWQAAqAck.jpg       244  \n",
       "1      1  https://pbs.twimg.com/media/FcM_7H_XgAEDifo.jpg       219  \n",
       "2      1  https://pbs.twimg.com/media/FcNABxgWIAAyuK2.jpg       171  \n",
       "\n",
       "[3 rows x 27 columns]"
      ]
     },
     "execution_count": 2,
     "metadata": {},
     "output_type": "execute_result"
    }
   ],
   "source": [
    "data = pd.read_csv('./queen_notshort.csv', lineterminator='\\n', low_memory=False)\n",
    "data.head(3)"
   ]
  },
  {
   "cell_type": "code",
   "execution_count": 3,
   "id": "5db2b70b",
   "metadata": {},
   "outputs": [
    {
     "data": {
      "text/plain": [
       "Index(['index', 'id', 'conversation_id', 'created_at', 'date', 'time',\n",
       "       'timezone', 'user_id', 'username', 'name', 'place', 'tweet', 'language',\n",
       "       'mentions', 'urls', 'photos', 'replies_count', 'retweets_count',\n",
       "       'likes_count', 'hashtags', 'cashtags', 'link', 'retweet', 'quote_url',\n",
       "       'video', 'thumbnail', 'tweet_len'],\n",
       "      dtype='object')"
      ]
     },
     "execution_count": 3,
     "metadata": {},
     "output_type": "execute_result"
    }
   ],
   "source": [
    "data.columns  # 데이터 컬럼 확인"
   ]
  },
  {
   "cell_type": "markdown",
   "id": "08d2a50d",
   "metadata": {},
   "source": [
    "### 샘플링 함수"
   ]
  },
  {
   "cell_type": "code",
   "execution_count": 4,
   "id": "8f3506f2",
   "metadata": {},
   "outputs": [],
   "source": [
    "def sampling(df, target_num):\n",
    "    randnum = random.randrange(1, 1501)\n",
    "    sampled = df.sample(n=target_num,\n",
    "                        random_state=randnum).reset_index(drop=True)\n",
    "    return sampled"
   ]
  },
  {
   "cell_type": "markdown",
   "id": "9fc9a785",
   "metadata": {},
   "source": [
    "### 트윗 시간순 확인"
   ]
  },
  {
   "cell_type": "code",
   "execution_count": 5,
   "id": "f3e19cc9",
   "metadata": {},
   "outputs": [
    {
     "name": "stdout",
     "output_type": "stream",
     "text": [
      "0번째 트윗의 시간: 14:50:42, 14\n"
     ]
    }
   ],
   "source": [
    "time_lst = list(data['time'])\n",
    "time_lst = [int(t[:2]) for t in time_lst]\n",
    "data['hour'] = time_lst\n",
    "\n",
    "time_0 = data.loc[0]['time']\n",
    "hour_0 = data.loc[0]['hour']\n",
    "print(f'0번째 트윗의 시간: {time_0}, {hour_0}')"
   ]
  },
  {
   "cell_type": "code",
   "execution_count": 6,
   "id": "cc02cfc7",
   "metadata": {},
   "outputs": [
    {
     "data": {
      "text/html": [
       "<div>\n",
       "<style scoped>\n",
       "    .dataframe tbody tr th:only-of-type {\n",
       "        vertical-align: middle;\n",
       "    }\n",
       "\n",
       "    .dataframe tbody tr th {\n",
       "        vertical-align: top;\n",
       "    }\n",
       "\n",
       "    .dataframe thead th {\n",
       "        text-align: right;\n",
       "    }\n",
       "</style>\n",
       "<table border=\"1\" class=\"dataframe\">\n",
       "  <thead>\n",
       "    <tr style=\"text-align: right;\">\n",
       "      <th></th>\n",
       "      <th>hour</th>\n",
       "      <th>tweets</th>\n",
       "    </tr>\n",
       "  </thead>\n",
       "  <tbody>\n",
       "    <tr>\n",
       "      <th>0</th>\n",
       "      <td>0</td>\n",
       "      <td>32526</td>\n",
       "    </tr>\n",
       "    <tr>\n",
       "      <th>1</th>\n",
       "      <td>1</td>\n",
       "      <td>19575</td>\n",
       "    </tr>\n",
       "    <tr>\n",
       "      <th>2</th>\n",
       "      <td>2</td>\n",
       "      <td>14009</td>\n",
       "    </tr>\n",
       "    <tr>\n",
       "      <th>3</th>\n",
       "      <td>3</td>\n",
       "      <td>10717</td>\n",
       "    </tr>\n",
       "    <tr>\n",
       "      <th>4</th>\n",
       "      <td>4</td>\n",
       "      <td>7978</td>\n",
       "    </tr>\n",
       "    <tr>\n",
       "      <th>5</th>\n",
       "      <td>5</td>\n",
       "      <td>6347</td>\n",
       "    </tr>\n",
       "    <tr>\n",
       "      <th>6</th>\n",
       "      <td>6</td>\n",
       "      <td>5365</td>\n",
       "    </tr>\n",
       "    <tr>\n",
       "      <th>7</th>\n",
       "      <td>7</td>\n",
       "      <td>4870</td>\n",
       "    </tr>\n",
       "    <tr>\n",
       "      <th>8</th>\n",
       "      <td>8</td>\n",
       "      <td>5264</td>\n",
       "    </tr>\n",
       "    <tr>\n",
       "      <th>9</th>\n",
       "      <td>9</td>\n",
       "      <td>4439</td>\n",
       "    </tr>\n",
       "  </tbody>\n",
       "</table>\n",
       "</div>"
      ],
      "text/plain": [
       "   hour  tweets\n",
       "0     0   32526\n",
       "1     1   19575\n",
       "2     2   14009\n",
       "3     3   10717\n",
       "4     4    7978\n",
       "5     5    6347\n",
       "6     6    5365\n",
       "7     7    4870\n",
       "8     8    5264\n",
       "9     9    4439"
      ]
     },
     "execution_count": 6,
     "metadata": {},
     "output_type": "execute_result"
    }
   ],
   "source": [
    "# 시간순에 따른 트윗량 데이터프레임화\n",
    "every_hour = []\n",
    "tweets_per_hour = []\n",
    "for i in range(24):\n",
    "    every_hour.append(i)\n",
    "    time_idx = list(data[data['hour'] == i].index)\n",
    "    tweets_per_hour.append(len(time_idx))\n",
    "    \n",
    "tweets_per_hour_df = pd.DataFrame({'hour': every_hour,\n",
    "                                   'tweets': tweets_per_hour})\n",
    "tweets_per_hour_df.head(10)"
   ]
  },
  {
   "cell_type": "code",
   "execution_count": 7,
   "id": "8a72d6eb",
   "metadata": {},
   "outputs": [
    {
     "data": {
      "image/png": "[encoded data removed]",
      "text/plain": [
       "<Figure size 600x300 with 1 Axes>"
      ]
     },
     "metadata": {},
     "output_type": "display_data"
    }
   ],
   "source": [
    "# 시간순에 따른 트윗량 시각화\n",
    "plt.figure(figsize=(6, 3))\n",
    "sns.barplot(x='hour', y='tweets', data=tweets_per_hour_df)\n",
    "plt.show()"
   ]
  },
  {
   "cell_type": "code",
   "execution_count": 8,
   "id": "b9cbed2e",
   "metadata": {},
   "outputs": [
    {
     "data": {
      "text/html": [
       "<div>\n",
       "<style scoped>\n",
       "    .dataframe tbody tr th:only-of-type {\n",
       "        vertical-align: middle;\n",
       "    }\n",
       "\n",
       "    .dataframe tbody tr th {\n",
       "        vertical-align: top;\n",
       "    }\n",
       "\n",
       "    .dataframe thead th {\n",
       "        text-align: right;\n",
       "    }\n",
       "</style>\n",
       "<table border=\"1\" class=\"dataframe\">\n",
       "  <thead>\n",
       "    <tr style=\"text-align: right;\">\n",
       "      <th></th>\n",
       "      <th>hour</th>\n",
       "      <th>tweets</th>\n",
       "    </tr>\n",
       "  </thead>\n",
       "  <tbody>\n",
       "    <tr>\n",
       "      <th>0</th>\n",
       "      <td>0</td>\n",
       "      <td>32526</td>\n",
       "    </tr>\n",
       "    <tr>\n",
       "      <th>1</th>\n",
       "      <td>1~2</td>\n",
       "      <td>33584</td>\n",
       "    </tr>\n",
       "    <tr>\n",
       "      <th>2</th>\n",
       "      <td>3~5</td>\n",
       "      <td>25042</td>\n",
       "    </tr>\n",
       "    <tr>\n",
       "      <th>3</th>\n",
       "      <td>6~9</td>\n",
       "      <td>19938</td>\n",
       "    </tr>\n",
       "  </tbody>\n",
       "</table>\n",
       "</div>"
      ],
      "text/plain": [
       "  hour  tweets\n",
       "0    0   32526\n",
       "1  1~2   33584\n",
       "2  3~5   25042\n",
       "3  6~9   19938"
      ]
     },
     "execution_count": 8,
     "metadata": {},
     "output_type": "execute_result"
    }
   ],
   "source": [
    "# 시간순에 따른 트윗량 데이터프레임화 2\n",
    "time_df_x = ['0', '1~2', '3~5', '6~9']\n",
    "time_df_y = [tweets_per_hour[0]]\n",
    "time_df_y.append(tweets_per_hour[1]+tweets_per_hour[2])\n",
    "time_df_y.append(tweets_per_hour[3]+tweets_per_hour[4]+tweets_per_hour[5])\n",
    "time_df_y.append(tweets_per_hour[6]+tweets_per_hour[7]+tweets_per_hour[8]+tweets_per_hour[9])\n",
    "\n",
    "tweets_per_hour_df2 = pd.DataFrame({'hour': time_df_x,\n",
    "                                    'tweets': time_df_y})\n",
    "tweets_per_hour_df2.head()"
   ]
  },
  {
   "cell_type": "code",
   "execution_count": 9,
   "id": "287bc3bd",
   "metadata": {},
   "outputs": [
    {
     "data": {
      "image/png": "[encoded data removed]",
      "text/plain": [
       "<Figure size 400x200 with 1 Axes>"
      ]
     },
     "metadata": {},
     "output_type": "display_data"
    }
   ],
   "source": [
    "# 시간순에 따른 트윗량 시각화 2\n",
    "plt.figure(figsize=(4, 2))\n",
    "sns.barplot(x='hour', y='tweets', data=tweets_per_hour_df2)\n",
    "plt.show()"
   ]
  },
  {
   "cell_type": "code",
   "execution_count": 10,
   "id": "74066c23",
   "metadata": {},
   "outputs": [
    {
     "name": "stdout",
     "output_type": "stream",
     "text": [
      "샘플링 전\n",
      "새벽 0시 트윗량  : 32526개\n",
      "새벽 1~2시 트윗량: 33584개\n",
      "새벽 3~5시 트윗량: 25042개\n",
      "새벽 6~9시 트윗량: 19938개\n",
      "\n",
      "샘플링 후\n",
      "새벽 0시 트윗량  : 19938개\n",
      "새벽 1~2시 트윗량: 19938개\n",
      "새벽 3~5시 트윗량: 19938개\n",
      "새벽 6~9시 트윗량: 19938개\n"
     ]
    }
   ],
   "source": [
    "# 시간순에 따른 트윗량이 균등하도록 샘플링\n",
    "data_hour_0    = data[data['hour'] == 0]\n",
    "data_hour_1to2 = data[(0 < data['hour']) & (data['hour'] <= 2)]\n",
    "data_hour_3to5 = data[(2 < data['hour']) & (data['hour'] <= 5)]\n",
    "data_hour_6to9 = data[(5 < data['hour']) & (data['hour'] <= 9)]\n",
    "\n",
    "print('샘플링 전')\n",
    "print(f'새벽 0시 트윗량  : {len(data_hour_0)}개')\n",
    "print(f'새벽 1~2시 트윗량: {len(data_hour_1to2)}개')\n",
    "print(f'새벽 3~5시 트윗량: {len(data_hour_3to5)}개')\n",
    "print(f'새벽 6~9시 트윗량: {len(data_hour_6to9)}개\\n')\n",
    "\n",
    "data_hour_0    = sampling(data_hour_0, 19938)\n",
    "data_hour_1to2 = sampling(data_hour_1to2, 19938)\n",
    "data_hour_3to5 = sampling(data_hour_3to5, 19938)\n",
    "\n",
    "print('샘플링 후')\n",
    "print(f'새벽 0시 트윗량  : {len(data_hour_0)}개')\n",
    "print(f'새벽 1~2시 트윗량: {len(data_hour_1to2)}개')\n",
    "print(f'새벽 3~5시 트윗량: {len(data_hour_3to5)}개')\n",
    "print(f'새벽 6~9시 트윗량: {len(data_hour_6to9)}개')"
   ]
  },
  {
   "cell_type": "code",
   "execution_count": 11,
   "id": "6b443242",
   "metadata": {},
   "outputs": [],
   "source": [
    "# 시간순에 따라 샘플링된 트윗별로 저장\n",
    "hour_path = './condition/hour/queen_'\n",
    "\n",
    "data_hour_0.to_csv(hour_path+'hour_0.csv', index=False, encoding='utf-8-sig')\n",
    "data_hour_1to2.to_csv(hour_path+'hour_1to2.csv', index=False, encoding='utf-8-sig')\n",
    "data_hour_3to5.to_csv(hour_path+'hour_3to5.csv', index=False, encoding='utf-8-sig')\n",
    "data_hour_6to9.to_csv(hour_path+'hour_6to9.csv', index=False, encoding='utf-8-sig')"
   ]
  },
  {
   "cell_type": "markdown",
   "id": "7a8c8a0e",
   "metadata": {},
   "source": [
    "### 트윗 좋아요순 확인"
   ]
  },
  {
   "cell_type": "code",
   "execution_count": 12,
   "id": "27623ef2",
   "metadata": {},
   "outputs": [
    {
     "name": "stdout",
     "output_type": "stream",
     "text": [
      "150번째 트윗의 좋아요 개수: 11\n"
     ]
    }
   ],
   "source": [
    "like_lst = list(data['likes_count'])\n",
    "like_150 = data.loc[150]['likes_count']\n",
    "print(f'150번째 트윗의 좋아요 개수: {like_150}')"
   ]
  },
  {
   "cell_type": "code",
   "execution_count": 13,
   "id": "ed4e77ad",
   "metadata": {},
   "outputs": [
    {
     "name": "stdout",
     "output_type": "stream",
     "text": [
      "전체 트윗량: 142348개\n",
      "\n",
      "좋아요 0개 트윗량      : 66337개\n",
      "좋아요 1~10개 트윗량   : 58400개\n",
      "좋아요 11~50개 트윗량  : 11812개\n",
      "좋아요 51~100개 트윗량 : 2224개\n",
      "좋아요 100개 이상 트윗량: 3575개\n",
      "전체 트윗량: 142348개\n"
     ]
    }
   ],
   "source": [
    "zero_like_cnt     = sum([1 if like == 0 else 0 for like in like_lst])\n",
    "under10_like_cnt  = sum([1 if 0 < like and like <= 10 else 0 for like in like_lst])\n",
    "under50_like_cnt  = sum([1 if 10 < like and like <= 50 else 0 for like in like_lst])\n",
    "under100_like_cnt = sum([1 if 50 < like and like <= 100 else 0 for like in like_lst])\n",
    "over100_like_cnt  = sum([1 if 100 < like else 0 for like in like_lst])\n",
    "\n",
    "print(f'전체 트윗량: {len(data)}개\\n')\n",
    "\n",
    "print(f'좋아요 0개 트윗량      : {zero_like_cnt}개')\n",
    "print(f'좋아요 1~10개 트윗량   : {under10_like_cnt}개')\n",
    "print(f'좋아요 11~50개 트윗량  : {under50_like_cnt}개')\n",
    "print(f'좋아요 51~100개 트윗량 : {under100_like_cnt}개')\n",
    "print(f'좋아요 100개 이상 트윗량: {over100_like_cnt}개')\n",
    "print(f'전체 트윗량: {zero_like_cnt + under10_like_cnt + under50_like_cnt + under100_like_cnt + over100_like_cnt}개')"
   ]
  },
  {
   "cell_type": "code",
   "execution_count": 14,
   "id": "4816edca",
   "metadata": {},
   "outputs": [
    {
     "data": {
      "text/html": [
       "<div>\n",
       "<style scoped>\n",
       "    .dataframe tbody tr th:only-of-type {\n",
       "        vertical-align: middle;\n",
       "    }\n",
       "\n",
       "    .dataframe tbody tr th {\n",
       "        vertical-align: top;\n",
       "    }\n",
       "\n",
       "    .dataframe thead th {\n",
       "        text-align: right;\n",
       "    }\n",
       "</style>\n",
       "<table border=\"1\" class=\"dataframe\">\n",
       "  <thead>\n",
       "    <tr style=\"text-align: right;\">\n",
       "      <th></th>\n",
       "      <th>likes</th>\n",
       "      <th>tweets</th>\n",
       "    </tr>\n",
       "  </thead>\n",
       "  <tbody>\n",
       "    <tr>\n",
       "      <th>0</th>\n",
       "      <td>0</td>\n",
       "      <td>66337</td>\n",
       "    </tr>\n",
       "    <tr>\n",
       "      <th>1</th>\n",
       "      <td>1~10</td>\n",
       "      <td>58400</td>\n",
       "    </tr>\n",
       "    <tr>\n",
       "      <th>2</th>\n",
       "      <td>11~50</td>\n",
       "      <td>11812</td>\n",
       "    </tr>\n",
       "    <tr>\n",
       "      <th>3</th>\n",
       "      <td>51~100</td>\n",
       "      <td>2224</td>\n",
       "    </tr>\n",
       "    <tr>\n",
       "      <th>4</th>\n",
       "      <td>over 100</td>\n",
       "      <td>3575</td>\n",
       "    </tr>\n",
       "  </tbody>\n",
       "</table>\n",
       "</div>"
      ],
      "text/plain": [
       "      likes  tweets\n",
       "0         0   66337\n",
       "1      1~10   58400\n",
       "2     11~50   11812\n",
       "3    51~100    2224\n",
       "4  over 100    3575"
      ]
     },
     "execution_count": 14,
     "metadata": {},
     "output_type": "execute_result"
    }
   ],
   "source": [
    "# 좋아요순에 따른 트윗량 데이터프레임화\n",
    "like_df_x = ['0', '1~10', '11~50', '51~100', 'over 100']\n",
    "like_df_y = [zero_like_cnt, under10_like_cnt, under50_like_cnt, under100_like_cnt, over100_like_cnt]\n",
    "\n",
    "tweets_per_like_df = pd.DataFrame({'likes': like_df_x,\n",
    "                                   'tweets': like_df_y})\n",
    "tweets_per_like_df.head(5)"
   ]
  },
  {
   "cell_type": "code",
   "execution_count": 15,
   "id": "02e6f70c",
   "metadata": {},
   "outputs": [
    {
     "data": {
      "image/png": "[encoded data removed]",
      "text/plain": [
       "<Figure size 400x200 with 1 Axes>"
      ]
     },
     "metadata": {},
     "output_type": "display_data"
    }
   ],
   "source": [
    "# 좋아요순에 따른 트윗량 시각화\n",
    "plt.figure(figsize=(4, 2))\n",
    "sns.barplot(x='likes', y='tweets', data=tweets_per_like_df)\n",
    "plt.show()"
   ]
  },
  {
   "cell_type": "code",
   "execution_count": 16,
   "id": "43feb385",
   "metadata": {},
   "outputs": [
    {
     "name": "stdout",
     "output_type": "stream",
     "text": [
      "샘플링 전\n",
      "좋아요 0개 트윗량      : 66337개\n",
      "좋아요 1~10개 트윗량   : 58400개\n",
      "좋아요 11~50개 트윗량  : 11812개\n",
      "좋아요 51~100개 트윗량 : 2224개\n",
      "좋아요 100개 이상 트윗량: 3575개\n",
      "\n",
      "샘플링 후\n",
      "좋아요 0개 트윗량      : 2224개\n",
      "좋아요 1~10개 트윗량   : 2224개\n",
      "좋아요 11~50개 트윗량  : 2224개\n",
      "좋아요 51~100개 트윗량 : 2224개\n",
      "좋아요 100개 이상 트윗량: 2224개\n"
     ]
    }
   ],
   "source": [
    "# 좋아요순에 따른 트윗량이 균등하도록 샘플링\n",
    "data_like_0       = data[data['likes_count'] == 0]\n",
    "data_like_1to10   = data[(0 < data['likes_count']) & (data['likes_count'] <= 10)]\n",
    "data_like_11to50  = data[(10 < data['likes_count']) & (data['likes_count'] <= 50)]\n",
    "data_like_51to100 = data[(50 < data['likes_count']) & (data['likes_count'] <= 100)]\n",
    "data_like_over100 = data[100 < data['likes_count']]\n",
    "\n",
    "print('샘플링 전')\n",
    "print(f'좋아요 0개 트윗량      : {len(data_like_0)}개')\n",
    "print(f'좋아요 1~10개 트윗량   : {len(data_like_1to10)}개')\n",
    "print(f'좋아요 11~50개 트윗량  : {len(data_like_11to50)}개')\n",
    "print(f'좋아요 51~100개 트윗량 : {len(data_like_51to100)}개')\n",
    "print(f'좋아요 100개 이상 트윗량: {len(data_like_over100)}개\\n')\n",
    "\n",
    "data_like_0       = sampling(data_like_0, 2224)\n",
    "data_like_1to10   = sampling(data_like_1to10, 2224)\n",
    "data_like_11to50  = sampling(data_like_11to50, 2224)\n",
    "data_like_over100 = sampling(data_like_over100, 2224)\n",
    "\n",
    "print('샘플링 후')\n",
    "print(f'좋아요 0개 트윗량      : {len(data_like_0)}개')\n",
    "print(f'좋아요 1~10개 트윗량   : {len(data_like_1to10)}개')\n",
    "print(f'좋아요 11~50개 트윗량  : {len(data_like_11to50)}개')\n",
    "print(f'좋아요 51~100개 트윗량 : {len(data_like_51to100)}개')\n",
    "print(f'좋아요 100개 이상 트윗량: {len(data_like_over100)}개')"
   ]
  },
  {
   "cell_type": "code",
   "execution_count": 17,
   "id": "444d039c",
   "metadata": {},
   "outputs": [],
   "source": [
    "# 좋아요순에 따라 샘플링된 트윗별로 저장\n",
    "like_path = './condition/likes_count/queen_'\n",
    "\n",
    "data_like_0.to_csv(like_path+'like_0.csv', index=False, encoding='utf-8-sig')\n",
    "data_like_1to10.to_csv(like_path+'like_1to10.csv', index=False, encoding='utf-8-sig')\n",
    "data_like_11to50.to_csv(like_path+'like_11to50.csv', index=False, encoding='utf-8-sig')\n",
    "data_like_51to100.to_csv(like_path+'like_51to100.csv', index=False, encoding='utf-8-sig')\n",
    "data_like_over100.to_csv(like_path+'like_over100.csv', index=False, encoding='utf-8-sig')"
   ]
  },
  {
   "cell_type": "markdown",
   "id": "0229030e",
   "metadata": {},
   "source": [
    "### 트윗 답글순 확인"
   ]
  },
  {
   "cell_type": "code",
   "execution_count": 18,
   "id": "fe09aee3",
   "metadata": {},
   "outputs": [
    {
     "name": "stdout",
     "output_type": "stream",
     "text": [
      "150번째 트윗의 답글 개수: 1\n"
     ]
    }
   ],
   "source": [
    "retweet_lst = list(data['retweets_count'])\n",
    "retweet_150 = data.loc[150]['retweets_count']\n",
    "print(f'150번째 트윗의 답글 개수: {retweet_150}')"
   ]
  },
  {
   "cell_type": "code",
   "execution_count": 19,
   "id": "363903cd",
   "metadata": {},
   "outputs": [
    {
     "name": "stdout",
     "output_type": "stream",
     "text": [
      "전체 트윗량: 142348개\n",
      "\n",
      "답글 0개 트윗량      : 107827개\n",
      "답글 1~10개 트윗량   : 29508개\n",
      "답글 11~50개 트윗량  : 3459개\n",
      "답글 51~100개 트윗량 : 697개\n",
      "답글 100개 이상 트윗량: 857개\n",
      "전체 트윗량: 142348개\n"
     ]
    }
   ],
   "source": [
    "zero_retweet_cnt     = sum([1 if rt == 0 else 0 for rt in retweet_lst])\n",
    "under10_retweet_cnt  = sum([1 if 0 < rt and rt <= 10 else 0 for rt in retweet_lst])\n",
    "under50_retweet_cnt  = sum([1 if 10 < rt and rt <= 50 else 0 for rt in retweet_lst])\n",
    "under100_retweet_cnt = sum([1 if 50 < rt and rt <= 100 else 0 for rt in retweet_lst])\n",
    "over100_retweet_cnt  = sum([1 if 100 < rt else 0 for rt in retweet_lst])\n",
    "\n",
    "print(f'전체 트윗량: {len(data)}개\\n')\n",
    "\n",
    "print(f'답글 0개 트윗량      : {zero_retweet_cnt}개')\n",
    "print(f'답글 1~10개 트윗량   : {under10_retweet_cnt}개')\n",
    "print(f'답글 11~50개 트윗량  : {under50_retweet_cnt}개')\n",
    "print(f'답글 51~100개 트윗량 : {under100_retweet_cnt}개')\n",
    "print(f'답글 100개 이상 트윗량: {over100_retweet_cnt}개')\n",
    "print(f'전체 트윗량: {zero_retweet_cnt + under10_retweet_cnt + under50_retweet_cnt + under100_retweet_cnt + over100_retweet_cnt}개')"
   ]
  },
  {
   "cell_type": "code",
   "execution_count": 20,
   "id": "6d141695",
   "metadata": {},
   "outputs": [
    {
     "data": {
      "text/html": [
       "<div>\n",
       "<style scoped>\n",
       "    .dataframe tbody tr th:only-of-type {\n",
       "        vertical-align: middle;\n",
       "    }\n",
       "\n",
       "    .dataframe tbody tr th {\n",
       "        vertical-align: top;\n",
       "    }\n",
       "\n",
       "    .dataframe thead th {\n",
       "        text-align: right;\n",
       "    }\n",
       "</style>\n",
       "<table border=\"1\" class=\"dataframe\">\n",
       "  <thead>\n",
       "    <tr style=\"text-align: right;\">\n",
       "      <th></th>\n",
       "      <th>retweets</th>\n",
       "      <th>tweets</th>\n",
       "    </tr>\n",
       "  </thead>\n",
       "  <tbody>\n",
       "    <tr>\n",
       "      <th>0</th>\n",
       "      <td>0</td>\n",
       "      <td>107827</td>\n",
       "    </tr>\n",
       "    <tr>\n",
       "      <th>1</th>\n",
       "      <td>1~10</td>\n",
       "      <td>29508</td>\n",
       "    </tr>\n",
       "    <tr>\n",
       "      <th>2</th>\n",
       "      <td>11~50</td>\n",
       "      <td>3459</td>\n",
       "    </tr>\n",
       "    <tr>\n",
       "      <th>3</th>\n",
       "      <td>51~100</td>\n",
       "      <td>697</td>\n",
       "    </tr>\n",
       "    <tr>\n",
       "      <th>4</th>\n",
       "      <td>over 100</td>\n",
       "      <td>857</td>\n",
       "    </tr>\n",
       "  </tbody>\n",
       "</table>\n",
       "</div>"
      ],
      "text/plain": [
       "   retweets  tweets\n",
       "0         0  107827\n",
       "1      1~10   29508\n",
       "2     11~50    3459\n",
       "3    51~100     697\n",
       "4  over 100     857"
      ]
     },
     "execution_count": 20,
     "metadata": {},
     "output_type": "execute_result"
    }
   ],
   "source": [
    "# 답글순에 따른 트윗량 데이터프레임화\n",
    "retweet_df_x = ['0', '1~10', '11~50', '51~100', 'over 100']\n",
    "retweet_df_y = [zero_retweet_cnt, under10_retweet_cnt, under50_retweet_cnt, under100_retweet_cnt, over100_retweet_cnt]\n",
    "\n",
    "tweets_per_retweet_df = pd.DataFrame({'retweets': retweet_df_x,\n",
    "                                      'tweets': retweet_df_y})\n",
    "tweets_per_retweet_df.head(5)"
   ]
  },
  {
   "cell_type": "code",
   "execution_count": 21,
   "id": "8c092661",
   "metadata": {},
   "outputs": [
    {
     "data": {
      "image/png": "[encoded data removed]",
      "text/plain": [
       "<Figure size 400x200 with 1 Axes>"
      ]
     },
     "metadata": {},
     "output_type": "display_data"
    }
   ],
   "source": [
    "# 답글순에 따른 트윗량 시각화\n",
    "plt.figure(figsize=(4, 2))\n",
    "sns.barplot(x='retweets', y='tweets', data=tweets_per_retweet_df)\n",
    "plt.show()"
   ]
  },
  {
   "cell_type": "code",
   "execution_count": 22,
   "id": "45a39d8b",
   "metadata": {},
   "outputs": [
    {
     "name": "stdout",
     "output_type": "stream",
     "text": [
      "샘플링 전\n",
      "답글 0개 트윗량      : 107827개\n",
      "답글 1~10개 트윗량   : 29508개\n",
      "답글 11~50개 트윗량  : 3459개\n",
      "답글 51~100개 트윗량 : 697개\n",
      "답글 100개 이상 트윗량: 857개\n",
      "\n",
      "샘플링 후\n",
      "답글 0개 트윗량      : 697개\n",
      "답글 1~10개 트윗량   : 697개\n",
      "답글 11~50개 트윗량  : 697개\n",
      "답글 51~100개 트윗량 : 697개\n",
      "답글 100개 이상 트윗량: 697개\n"
     ]
    }
   ],
   "source": [
    "# 답글순에 따른 트윗량이 균등하도록 샘플링\n",
    "data_rt_0       = data[data['retweets_count'] == 0]\n",
    "data_rt_1to10   = data[(0 < data['retweets_count']) & (data['retweets_count'] <= 10)]\n",
    "data_rt_11to50  = data[(10 < data['retweets_count']) & (data['retweets_count'] <= 50)]\n",
    "data_rt_51to100 = data[(50 < data['retweets_count']) & (data['retweets_count'] <= 100)]\n",
    "data_rt_over100 = data[100 < data['retweets_count']]\n",
    "\n",
    "print('샘플링 전')\n",
    "print(f'답글 0개 트윗량      : {len(data_rt_0)}개')\n",
    "print(f'답글 1~10개 트윗량   : {len(data_rt_1to10)}개')\n",
    "print(f'답글 11~50개 트윗량  : {len(data_rt_11to50)}개')\n",
    "print(f'답글 51~100개 트윗량 : {len(data_rt_51to100)}개')\n",
    "print(f'답글 100개 이상 트윗량: {len(data_rt_over100)}개\\n')\n",
    "\n",
    "data_rt_0       = sampling(data_rt_0, 697)\n",
    "data_rt_1to10   = sampling(data_rt_1to10, 697)\n",
    "data_rt_11to50  = sampling(data_rt_11to50, 697)\n",
    "data_rt_over100 = sampling(data_rt_over100, 697)\n",
    "\n",
    "print('샘플링 후')\n",
    "print(f'답글 0개 트윗량      : {len(data_rt_0)}개')\n",
    "print(f'답글 1~10개 트윗량   : {len(data_rt_1to10)}개')\n",
    "print(f'답글 11~50개 트윗량  : {len(data_rt_11to50)}개')\n",
    "print(f'답글 51~100개 트윗량 : {len(data_rt_51to100)}개')\n",
    "print(f'답글 100개 이상 트윗량: {len(data_rt_over100)}개')"
   ]
  },
  {
   "cell_type": "code",
   "execution_count": 23,
   "id": "455081d7",
   "metadata": {},
   "outputs": [],
   "source": [
    "# 답글순에 따라 샘플링된 트윗별로 저장\n",
    "rt_path = './condition/retweets_count/queen_'\n",
    "\n",
    "data_rt_0.to_csv(rt_path+'rt_0.csv', index=False, encoding='utf-8-sig')\n",
    "data_rt_1to10.to_csv(rt_path+'rt_1to10.csv', index=False, encoding='utf-8-sig')\n",
    "data_rt_11to50.to_csv(rt_path+'rt_11to50.csv', index=False, encoding='utf-8-sig')\n",
    "data_rt_51to100.to_csv(rt_path+'rt_51to100.csv', index=False, encoding='utf-8-sig')\n",
    "data_rt_over100.to_csv(rt_path+'rt_over100.csv', index=False, encoding='utf-8-sig')"
   ]
  }
 ],
 "metadata": {
  "kernelspec": {
   "display_name": "bigdata",
   "language": "python",
   "name": "bigdata"
  },
  "language_info": {
   "codemirror_mode": {
    "name": "ipython",
    "version": 3
   },
   "file_extension": ".py",
   "mimetype": "text/x-python",
   "name": "python",
   "nbconvert_exporter": "python",
   "pygments_lexer": "ipython3",
   "version": "3.8.13"
  }
 },
 "nbformat": 4,
 "nbformat_minor": 5
}
