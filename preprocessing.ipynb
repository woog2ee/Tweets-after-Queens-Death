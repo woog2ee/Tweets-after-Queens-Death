{
 "cells": [
  {
   "cell_type": "markdown",
   "id": "02e34835",
   "metadata": {},
   "source": [
    "### 라이브러리"
   ]
  },
  {
   "cell_type": "code",
   "execution_count": 1,
   "id": "ec03cf48",
   "metadata": {},
   "outputs": [],
   "source": [
    "import re\n",
    "import pandas as pd"
   ]
  },
  {
   "cell_type": "markdown",
   "id": "0391fd87",
   "metadata": {},
   "source": [
    "### 데이터 확인"
   ]
  },
  {
   "cell_type": "code",
   "execution_count": 2,
   "id": "cb6ffe44",
   "metadata": {},
   "outputs": [
    {
     "data": {
      "text/html": [
       "<div>\n",
       "<style scoped>\n",
       "    .dataframe tbody tr th:only-of-type {\n",
       "        vertical-align: middle;\n",
       "    }\n",
       "\n",
       "    .dataframe tbody tr th {\n",
       "        vertical-align: top;\n",
       "    }\n",
       "\n",
       "    .dataframe thead th {\n",
       "        text-align: right;\n",
       "    }\n",
       "</style>\n",
       "<table border=\"1\" class=\"dataframe\">\n",
       "  <thead>\n",
       "    <tr style=\"text-align: right;\">\n",
       "      <th></th>\n",
       "      <th>id</th>\n",
       "      <th>conversation_id</th>\n",
       "      <th>created_at</th>\n",
       "      <th>date</th>\n",
       "      <th>time</th>\n",
       "      <th>timezone</th>\n",
       "      <th>user_id</th>\n",
       "      <th>username</th>\n",
       "      <th>name</th>\n",
       "      <th>place</th>\n",
       "      <th>...</th>\n",
       "      <th>geo</th>\n",
       "      <th>source</th>\n",
       "      <th>user_rt_id</th>\n",
       "      <th>user_rt</th>\n",
       "      <th>retweet_id</th>\n",
       "      <th>reply_to</th>\n",
       "      <th>retweet_date</th>\n",
       "      <th>translate</th>\n",
       "      <th>trans_src</th>\n",
       "      <th>trans_dest</th>\n",
       "    </tr>\n",
       "  </thead>\n",
       "  <tbody>\n",
       "    <tr>\n",
       "      <th>0</th>\n",
       "      <td>1568167503947235331</td>\n",
       "      <td>1568167503947235331</td>\n",
       "      <td>2022-09-09 14:50:42 India Standard Time</td>\n",
       "      <td>2022-09-09</td>\n",
       "      <td>14:50:42</td>\n",
       "      <td>530</td>\n",
       "      <td>963099618547589121</td>\n",
       "      <td>inpd_</td>\n",
       "      <td>In Professional Development</td>\n",
       "      <td>NaN</td>\n",
       "      <td>...</td>\n",
       "      <td>NaN</td>\n",
       "      <td>NaN</td>\n",
       "      <td>NaN</td>\n",
       "      <td>NaN</td>\n",
       "      <td>NaN</td>\n",
       "      <td>[]</td>\n",
       "      <td>NaN</td>\n",
       "      <td>NaN</td>\n",
       "      <td>NaN</td>\n",
       "      <td>NaN</td>\n",
       "    </tr>\n",
       "    <tr>\n",
       "      <th>1</th>\n",
       "      <td>1568167501334253568</td>\n",
       "      <td>1568167501334253568</td>\n",
       "      <td>2022-09-09 14:50:42 India Standard Time</td>\n",
       "      <td>2022-09-09</td>\n",
       "      <td>14:50:42</td>\n",
       "      <td>530</td>\n",
       "      <td>26475981</td>\n",
       "      <td>ukpostbox</td>\n",
       "      <td>UK Postbox</td>\n",
       "      <td>NaN</td>\n",
       "      <td>...</td>\n",
       "      <td>NaN</td>\n",
       "      <td>NaN</td>\n",
       "      <td>NaN</td>\n",
       "      <td>NaN</td>\n",
       "      <td>NaN</td>\n",
       "      <td>[]</td>\n",
       "      <td>NaN</td>\n",
       "      <td>NaN</td>\n",
       "      <td>NaN</td>\n",
       "      <td>NaN</td>\n",
       "    </tr>\n",
       "    <tr>\n",
       "      <th>2</th>\n",
       "      <td>1568167500134731776</td>\n",
       "      <td>1568167500134731776</td>\n",
       "      <td>2022-09-09 14:50:41 India Standard Time</td>\n",
       "      <td>2022-09-09</td>\n",
       "      <td>14:50:41</td>\n",
       "      <td>530</td>\n",
       "      <td>868028006610153472</td>\n",
       "      <td>brandminds</td>\n",
       "      <td>BRAND MINDS</td>\n",
       "      <td>NaN</td>\n",
       "      <td>...</td>\n",
       "      <td>NaN</td>\n",
       "      <td>NaN</td>\n",
       "      <td>NaN</td>\n",
       "      <td>NaN</td>\n",
       "      <td>NaN</td>\n",
       "      <td>[]</td>\n",
       "      <td>NaN</td>\n",
       "      <td>NaN</td>\n",
       "      <td>NaN</td>\n",
       "      <td>NaN</td>\n",
       "    </tr>\n",
       "  </tbody>\n",
       "</table>\n",
       "<p>3 rows × 36 columns</p>\n",
       "</div>"
      ],
      "text/plain": [
       "                    id      conversation_id  \\\n",
       "0  1568167503947235331  1568167503947235331   \n",
       "1  1568167501334253568  1568167501334253568   \n",
       "2  1568167500134731776  1568167500134731776   \n",
       "\n",
       "                                created_at        date      time  timezone  \\\n",
       "0  2022-09-09 14:50:42 India Standard Time  2022-09-09  14:50:42       530   \n",
       "1  2022-09-09 14:50:42 India Standard Time  2022-09-09  14:50:42       530   \n",
       "2  2022-09-09 14:50:41 India Standard Time  2022-09-09  14:50:41       530   \n",
       "\n",
       "              user_id    username                         name place  ... geo  \\\n",
       "0  963099618547589121       inpd_  In Professional Development   NaN  ... NaN   \n",
       "1            26475981   ukpostbox                   UK Postbox   NaN  ... NaN   \n",
       "2  868028006610153472  brandminds                  BRAND MINDS   NaN  ... NaN   \n",
       "\n",
       "  source user_rt_id user_rt retweet_id  reply_to  retweet_date  translate  \\\n",
       "0    NaN        NaN     NaN        NaN        []           NaN        NaN   \n",
       "1    NaN        NaN     NaN        NaN        []           NaN        NaN   \n",
       "2    NaN        NaN     NaN        NaN        []           NaN        NaN   \n",
       "\n",
       "  trans_src trans_dest  \n",
       "0       NaN        NaN  \n",
       "1       NaN        NaN  \n",
       "2       NaN        NaN  \n",
       "\n",
       "[3 rows x 36 columns]"
      ]
     },
     "execution_count": 2,
     "metadata": {},
     "output_type": "execute_result"
    }
   ],
   "source": [
    "data = pd.read_csv('./queen.csv')\n",
    "data.head(3)"
   ]
  },
  {
   "cell_type": "code",
   "execution_count": 3,
   "id": "a19c3323",
   "metadata": {},
   "outputs": [
    {
     "data": {
      "text/plain": [
       "Index(['id', 'conversation_id', 'created_at', 'date', 'time', 'timezone',\n",
       "       'user_id', 'username', 'name', 'place', 'tweet', 'language', 'mentions',\n",
       "       'urls', 'photos', 'replies_count', 'retweets_count', 'likes_count',\n",
       "       'hashtags', 'cashtags', 'link', 'retweet', 'quote_url', 'video',\n",
       "       'thumbnail', 'near', 'geo', 'source', 'user_rt_id', 'user_rt',\n",
       "       'retweet_id', 'reply_to', 'retweet_date', 'translate', 'trans_src',\n",
       "       'trans_dest'],\n",
       "      dtype='object')"
      ]
     },
     "execution_count": 3,
     "metadata": {},
     "output_type": "execute_result"
    }
   ],
   "source": [
    "data.columns  # 데이터 컬럼 확인"
   ]
  },
  {
   "cell_type": "code",
   "execution_count": 4,
   "id": "2a0ac8ff",
   "metadata": {},
   "outputs": [
    {
     "data": {
      "text/plain": [
       "id                                               1568167503947235331\n",
       "conversation_id                                  1568167503947235331\n",
       "created_at                   2022-09-09 14:50:42 India Standard Time\n",
       "date                                                      2022-09-09\n",
       "time                                                        14:50:42\n",
       "timezone                                                         530\n",
       "user_id                                           963099618547589121\n",
       "username                                                       inpd_\n",
       "name                                     In Professional Development\n",
       "place                                                            NaN\n",
       "tweet              We at In Professional Development join with pe...\n",
       "language                                                          en\n",
       "mentions                                                          []\n",
       "urls               ['https://www.inpd.co.uk/blog/a-statement-from...\n",
       "photos             ['https://pbs.twimg.com/media/FcM_yTPWQAAqAck....\n",
       "replies_count                                                      0\n",
       "retweets_count                                                     0\n",
       "likes_count                                                        0\n",
       "hashtags                                                          []\n",
       "cashtags                                                          []\n",
       "link               https://twitter.com/INPD_/status/1568167503947...\n",
       "retweet                                                        False\n",
       "quote_url                                                        NaN\n",
       "video                                                              1\n",
       "thumbnail            https://pbs.twimg.com/media/FcM_yTPWQAAqAck.jpg\n",
       "near                                                             NaN\n",
       "geo                                                              NaN\n",
       "source                                                           NaN\n",
       "user_rt_id                                                       NaN\n",
       "user_rt                                                          NaN\n",
       "retweet_id                                                       NaN\n",
       "reply_to                                                          []\n",
       "retweet_date                                                     NaN\n",
       "translate                                                        NaN\n",
       "trans_src                                                        NaN\n",
       "trans_dest                                                       NaN\n",
       "Name: 0, dtype: object"
      ]
     },
     "execution_count": 4,
     "metadata": {},
     "output_type": "execute_result"
    }
   ],
   "source": [
    "data.loc[0]  # 데이터 예시 확인"
   ]
  },
  {
   "cell_type": "code",
   "execution_count": 5,
   "id": "4a05122f",
   "metadata": {},
   "outputs": [
    {
     "data": {
      "text/plain": [
       "0    We at In Professional Development join with pe...\n",
       "1    Join us in remembering Her Majesty Queen Eliza...\n",
       "2    \"When life seems hard, the courageous do not l...\n",
       "3    We join the nation in mourning the death of He...\n",
       "4    We are saddened by the death of Her Majesty Qu...\n",
       "5    @Historia_Fotos Is Queen the Band but no the r...\n",
       "Name: tweet, dtype: object"
      ]
     },
     "execution_count": 5,
     "metadata": {},
     "output_type": "execute_result"
    }
   ],
   "source": [
    "data.loc[:5]['tweet']  # 데이터 트윗 텍스트 확인"
   ]
  },
  {
   "cell_type": "markdown",
   "id": "a0d2cfc4",
   "metadata": {},
   "source": [
    "### 정형 데이터 전처리"
   ]
  },
  {
   "cell_type": "code",
   "execution_count": 6,
   "id": "737bd18c",
   "metadata": {},
   "outputs": [
    {
     "name": "stdout",
     "output_type": "stream",
     "text": [
      "<class 'pandas.core.frame.DataFrame'>\n",
      "RangeIndex: 190325 entries, 0 to 190324\n",
      "Data columns (total 36 columns):\n",
      " #   Column           Non-Null Count   Dtype  \n",
      "---  ------           --------------   -----  \n",
      " 0   id               190325 non-null  int64  \n",
      " 1   conversation_id  190325 non-null  int64  \n",
      " 2   created_at       190325 non-null  object \n",
      " 3   date             190325 non-null  object \n",
      " 4   time             190325 non-null  object \n",
      " 5   timezone         190325 non-null  int64  \n",
      " 6   user_id          190325 non-null  int64  \n",
      " 7   username         190325 non-null  object \n",
      " 8   name             190315 non-null  object \n",
      " 9   place            228 non-null     object \n",
      " 10  tweet            190325 non-null  object \n",
      " 11  language         190325 non-null  object \n",
      " 12  mentions         190325 non-null  object \n",
      " 13  urls             190325 non-null  object \n",
      " 14  photos           190325 non-null  object \n",
      " 15  replies_count    190325 non-null  int64  \n",
      " 16  retweets_count   190325 non-null  int64  \n",
      " 17  likes_count      190325 non-null  int64  \n",
      " 18  hashtags         190325 non-null  object \n",
      " 19  cashtags         190325 non-null  object \n",
      " 20  link             190325 non-null  object \n",
      " 21  retweet          190325 non-null  bool   \n",
      " 22  quote_url        13406 non-null   object \n",
      " 23  video            190325 non-null  int64  \n",
      " 24  thumbnail        75123 non-null   object \n",
      " 25  near             0 non-null       float64\n",
      " 26  geo              0 non-null       float64\n",
      " 27  source           0 non-null       float64\n",
      " 28  user_rt_id       0 non-null       float64\n",
      " 29  user_rt          0 non-null       float64\n",
      " 30  retweet_id       0 non-null       float64\n",
      " 31  reply_to         190325 non-null  object \n",
      " 32  retweet_date     0 non-null       float64\n",
      " 33  translate        0 non-null       float64\n",
      " 34  trans_src        0 non-null       float64\n",
      " 35  trans_dest       0 non-null       float64\n",
      "dtypes: bool(1), float64(10), int64(8), object(17)\n",
      "memory usage: 51.0+ MB\n"
     ]
    }
   ],
   "source": [
    "data.info()  # 데이터 컬럼 결측치 확인"
   ]
  },
  {
   "cell_type": "code",
   "execution_count": 7,
   "id": "35d13ce5",
   "metadata": {},
   "outputs": [],
   "source": [
    "# 해당 컬럼 값이 모두 nan인 경우 드랍\n",
    "all_nan_columns = ['near', 'geo', 'source', 'user_rt_id',\n",
    "                   'user_rt', 'retweet_id', 'reply_to', 'retweet_date',\n",
    "                   'translate', 'trans_src', 'trans_dest']\n",
    "data = data.drop(columns=all_nan_columns)"
   ]
  },
  {
   "cell_type": "markdown",
   "id": "270adf88",
   "metadata": {},
   "source": [
    "### 트윗 텍스트 데이터 전처리"
   ]
  },
  {
   "cell_type": "code",
   "execution_count": 8,
   "id": "3309d228",
   "metadata": {},
   "outputs": [],
   "source": [
    "def preprocess_text(text):\n",
    "    # () 괄호 안 제거\n",
    "    text = re.sub(r'\\([^)]*\\)', '', text)\n",
    "    # 유저명 제거\n",
    "    text = re.sub(r'@[a-zA-Z0-0-_.]+', '', text)\n",
    "    # 해시태그 제거\n",
    "    text = re.sub(r'#[a-zA-Z0-9-.]+', '', text)\n",
    "    # url 제거\n",
    "    text = re.sub(r'https://t.co/[a-zA-Z0-9-.]+', '', text)\n",
    "    return text.strip()"
   ]
  },
  {
   "cell_type": "code",
   "execution_count": 9,
   "id": "b847962f",
   "metadata": {},
   "outputs": [
    {
     "name": "stdout",
     "output_type": "stream",
     "text": [
      "전처리 전\n",
      "\"When life seems hard, the courageous do not lie down and accept defeat; instead, they are all the more determined to struggle for a better future.\"   - Queen Elizabeth II (1926-2022)   #queenelizabeth #worldchanger #leadership  https://t.co/74X7t8a3Ax\n",
      "\n",
      "\n",
      "전처리 후\n",
      "\"When life seems hard, the courageous do not lie down and accept defeat; instead, they are all the more determined to struggle for a better future.\"   - Queen Elizabeth II\n"
     ]
    }
   ],
   "source": [
    "# 트윗 텍스트 데이터 전처리 예시\n",
    "print('전처리 전')\n",
    "print(data.loc[2]['tweet'])\n",
    "print('\\n')\n",
    "\n",
    "print('전처리 후')\n",
    "print(preprocess_text(data.loc[2]['tweet']))"
   ]
  },
  {
   "cell_type": "code",
   "execution_count": 10,
   "id": "173c1f7d",
   "metadata": {},
   "outputs": [],
   "source": [
    "# 전체 데이터에서 트윗 텍스트 전처리\n",
    "data['tweet'] = data['tweet'].apply(preprocess_text)"
   ]
  },
  {
   "cell_type": "code",
   "execution_count": 11,
   "id": "477cb48d",
   "metadata": {},
   "outputs": [],
   "source": [
    "# 전처리 후 각 트윗 텍스트의 길이를 컬럼화\n",
    "tweet_len = [len(data.loc[i]['tweet']) for i in range(len(data))]\n",
    "data['tweet_len'] = tweet_len"
   ]
  },
  {
   "cell_type": "code",
   "execution_count": 12,
   "id": "e0a51f1f",
   "metadata": {},
   "outputs": [
    {
     "data": {
      "text/plain": [
       "count    190325.000000\n",
       "mean        114.696409\n",
       "std          77.931011\n",
       "min           0.000000\n",
       "25%          51.000000\n",
       "50%          93.000000\n",
       "75%         173.000000\n",
       "max         354.000000\n",
       "Name: tweet_len, dtype: float64"
      ]
     },
     "execution_count": 12,
     "metadata": {},
     "output_type": "execute_result"
    }
   ],
   "source": [
    "data['tweet_len'].describe()  # 전처리 후 트윗 텍스트 길이 확인"
   ]
  },
  {
   "cell_type": "code",
   "execution_count": 13,
   "id": "89d4897a",
   "metadata": {},
   "outputs": [
    {
     "name": "stdout",
     "output_type": "stream",
     "text": [
      "전처리 전 전체 데이터 개수는 190325개입니다.\n",
      "전처리 후 전체 데이터 개수는 142348개입니다.\n"
     ]
    }
   ],
   "source": [
    "# 전처리 후 트윗 텍스트 길이가 전체 25% 이하일 경우 드랍\n",
    "print(f'전처리 전 전체 데이터 개수는 {len(data)}개입니다.')\n",
    "\n",
    "under25_idx = data[data['tweet_len'] <= 51].index\n",
    "data = data.drop(under25_idx).reset_index()\n",
    "data.to_csv('./queen_notshort.csv', index=False, encoding='utf-8-sig')\n",
    "print(f'전처리 후 전체 데이터 개수는 {len(data)}개입니다.')"
   ]
  }
 ],
 "metadata": {
  "kernelspec": {
   "display_name": "bigdata",
   "language": "python",
   "name": "bigdata"
  },
  "language_info": {
   "codemirror_mode": {
    "name": "ipython",
    "version": 3
   },
   "file_extension": ".py",
   "mimetype": "text/x-python",
   "name": "python",
   "nbconvert_exporter": "python",
   "pygments_lexer": "ipython3",
   "version": "3.8.13"
  }
 },
 "nbformat": 4,
 "nbformat_minor": 5
}
